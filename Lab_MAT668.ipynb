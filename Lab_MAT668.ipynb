{
  "nbformat": 4,
  "nbformat_minor": 0,
  "metadata": {
    "kernelspec": {
      "display_name": "Python 3",
      "language": "python",
      "name": "python3"
    },
    "language_info": {
      "codemirror_mode": {
        "name": "ipython",
        "version": 3
      },
      "file_extension": ".py",
      "mimetype": "text/x-python",
      "name": "python",
      "nbconvert_exporter": "python",
      "pygments_lexer": "ipython3",
      "version": "3.5.1"
    },
    "colab": {
      "name": "Lab MAT668.ipynb",
      "provenance": [],
      "include_colab_link": true
    }
  },
  "cells": [
    {
      "cell_type": "markdown",
      "metadata": {
        "id": "view-in-github",
        "colab_type": "text"
      },
      "source": [
        "<a href=\"https://colab.research.google.com/github/Diyanaawanis/Lab-Assignment-MAT668/blob/master/Lab_MAT668.ipynb\" target=\"_parent\"><img src=\"https://colab.research.google.com/assets/colab-badge.svg\" alt=\"Open In Colab\"/></a>"
      ]
    },
    {
      "cell_type": "markdown",
      "metadata": {
        "id": "5iepuIRupPrN"
      },
      "source": [
        "# MAT668\n",
        "## Lab 1"
      ]
    },
    {
      "cell_type": "code",
      "metadata": {
        "id": "sg4ie1rxpPrP",
        "outputId": "12661dec-38a8-4c6a-a8c5-e2ac0eea0c28",
        "colab": {
          "base_uri": "https://localhost:8080/",
          "height": 34
        }
      },
      "source": [
        "%pylab inline"
      ],
      "execution_count": null,
      "outputs": [
        {
          "output_type": "stream",
          "text": [
            "Populating the interactive namespace from numpy and matplotlib\n"
          ],
          "name": "stdout"
        }
      ]
    },
    {
      "cell_type": "markdown",
      "metadata": {
        "id": "vEeA1msOpPrT"
      },
      "source": [
        "### Q1\n",
        "Assign your name to a variable called \"my_name\". <br />\n",
        "Print your name using \"print\" function. <br />\n",
        "https://docs.python.org/3/tutorial/introduction.html#strings."
      ]
    },
    {
      "cell_type": "code",
      "metadata": {
        "id": "AQ27geXWpPrU",
        "colab": {
          "base_uri": "https://localhost:8080/",
          "height": 0
        },
        "outputId": "e02e616f-6b59-4678-f0f7-89ae2a700dbd"
      },
      "source": [
        "my_name = \"Nur Diyana Awanis\"\n",
        "print(my_name)"
      ],
      "execution_count": 2,
      "outputs": [
        {
          "output_type": "stream",
          "name": "stdout",
          "text": [
            "Nur Diyana Awanis\n"
          ]
        }
      ]
    },
    {
      "cell_type": "markdown",
      "metadata": {
        "id": "AomUYYZ_pPrW"
      },
      "source": [
        "<hr />"
      ]
    },
    {
      "cell_type": "markdown",
      "metadata": {
        "id": "kMHHvI4MpPrX"
      },
      "source": [
        "### Q2\n",
        "Define a list called \"nodes\" of 10 nodes (0, 1, ..., 9) using \"range\" function.<br />\n",
        "Convert the range into a list using \"list\" function.<br />\n",
        "Print the list of nodes using \"print\" function.\n",
        "\n",
        "https://docs.python.org/3/tutorial/introduction.html#lists <br />\n",
        "https://docs.python.org/3/tutorial/controlflow.html#the-range-function\n",
        "\n"
      ]
    },
    {
      "cell_type": "code",
      "metadata": {
        "id": "lO3ejI21pPrX",
        "colab": {
          "base_uri": "https://localhost:8080/",
          "height": 0
        },
        "outputId": "e110d165-4814-4269-e256-989468a8cd24"
      },
      "source": [
        "nodes = list(range(0, 10, 1))\n",
        "print(nodes)"
      ],
      "execution_count": 3,
      "outputs": [
        {
          "output_type": "stream",
          "name": "stdout",
          "text": [
            "[0, 1, 2, 3, 4, 5, 6, 7, 8, 9]\n"
          ]
        }
      ]
    },
    {
      "cell_type": "markdown",
      "metadata": {
        "id": "IhQaOSjfpPra"
      },
      "source": [
        "<hr />"
      ]
    },
    {
      "cell_type": "markdown",
      "metadata": {
        "id": "Fq4CzH-GpPra"
      },
      "source": [
        "### Q3\n",
        "Define a list using your student ID named \"studid\".<br >\n",
        "For example, if your student ID is \"2015234031\",<br />\n",
        "your list is [2, 0, 1, 5, 2, 3, 4, 0, 3, 1].<br />\n",
        "Print it using  \"print\" function."
      ]
    },
    {
      "cell_type": "code",
      "metadata": {
        "id": "cJJBqUHapPrb",
        "colab": {
          "base_uri": "https://localhost:8080/",
          "height": 0
        },
        "outputId": "e3c4b910-ed8b-43d9-9d50-8c936805f959"
      },
      "source": [
        "studid = [2,0,2,2,9,4,9,7,2,9]\n",
        "print(studid)"
      ],
      "execution_count": 4,
      "outputs": [
        {
          "output_type": "stream",
          "name": "stdout",
          "text": [
            "[2, 0, 2, 2, 9, 4, 9, 7, 2, 9]\n"
          ]
        }
      ]
    },
    {
      "cell_type": "markdown",
      "metadata": {
        "id": "L3cgesB_pPrd"
      },
      "source": [
        "<hr />"
      ]
    },
    {
      "cell_type": "markdown",
      "metadata": {
        "id": "iyLiIstFpPre"
      },
      "source": [
        "### Q4\n",
        "Use \"zip\" function to create a sequence of tuple and called it \"edges\".<br />\n",
        "Each tuple defines an edge between two nodes from the list nodes <br />\n",
        "and the list studid (nodes[i], stud[i]).<br />\n",
        "Then, use \"list\" function  to convert \"edges\" sequence into a list.<br />\n",
        "Print the list of edges using \"print\" function.<br />\n",
        "Example:<br />\n",
        "If nodes = [0, 1, 2, 3, 4, 5, 6, 7, 8, 9] and  studid = [2, 0, 1, 5, 2, 3, 4, 0, 3, 1]<br />\n",
        "then, edges = [(0, 2), (1, 0), (2, 1), (3, 5), (4, 2), (5, 3), (6, 4), (7, 0), (8, 3), (9, 1)]\n",
        "\n",
        "https://docs.python.org/3/tutorial/datastructures.html#nested-list-comprehensions"
      ]
    },
    {
      "cell_type": "code",
      "metadata": {
        "id": "kCQyKJKnpPrf",
        "colab": {
          "base_uri": "https://localhost:8080/",
          "height": 0
        },
        "outputId": "f7be00b3-2f70-4fed-b797-10d481d1319b"
      },
      "source": [
        "nodes=[0,1,2,3,4,5,6,7,8,9]\n",
        "studid=[2,0,2,2,9,4,9,7,2,9]\n",
        "edges=(list(zip(nodes,studid)))\n",
        "print(\"edges =\", edges)"
      ],
      "execution_count": 34,
      "outputs": [
        {
          "output_type": "stream",
          "name": "stdout",
          "text": [
            "edges = [(0, 2), (1, 0), (2, 2), (3, 2), (4, 9), (5, 4), (6, 9), (7, 7), (8, 2), (9, 9)]\n"
          ]
        }
      ]
    },
    {
      "cell_type": "markdown",
      "metadata": {
        "id": "gmJzPcAhpPrh"
      },
      "source": [
        "<hr />"
      ]
    },
    {
      "cell_type": "markdown",
      "metadata": {
        "id": "1Ac7kBuTpPrh"
      },
      "source": [
        "### Q5\n",
        "Import networkx module as nx.\n",
        "\n",
        "Then, create an empty graph G with no nodes and no edges.\n",
        "\n",
        "https://networkx.github.io/documentation/stable/tutorial.html#creating-a-graph\n"
      ]
    },
    {
      "cell_type": "code",
      "metadata": {
        "id": "XkaBiYPJpPri",
        "colab": {
          "base_uri": "https://localhost:8080/",
          "height": 0
        },
        "outputId": "fa7a9b28-243d-4889-df83-355ac6286906"
      },
      "source": [
        "import networkx as nx\n",
        "G = nx.Graph()\n",
        "G.graph"
      ],
      "execution_count": 6,
      "outputs": [
        {
          "output_type": "execute_result",
          "data": {
            "text/plain": [
              "{}"
            ]
          },
          "metadata": {},
          "execution_count": 6
        }
      ]
    },
    {
      "cell_type": "markdown",
      "metadata": {
        "id": "Xr6cAfj_pPrk"
      },
      "source": [
        "<hr />"
      ]
    },
    {
      "cell_type": "markdown",
      "metadata": {
        "id": "rMYBtFj0pPrl"
      },
      "source": [
        "### Q6\n",
        "Add \"edges\" to G using \"add_edges_from\" function.\n",
        "\n",
        "https://networkx.github.io/documentation/stable/tutorial.html#edges"
      ]
    },
    {
      "cell_type": "code",
      "metadata": {
        "id": "D5KhwXUkpPrm",
        "colab": {
          "base_uri": "https://localhost:8080/",
          "height": 0
        },
        "outputId": "6571667f-2cdb-4a80-e853-a6f5f6df9dd5"
      },
      "source": [
        "import networkx as nx\n",
        "G=nx.Graph()\n",
        "G.add_edge(0,2)\n",
        "G.add_edges_from([(0, 2), (1, 0), (2, 1), (3, 8), (4, 6), (5, 5), (6, 3), (7, 9), (8, 2), (9, 8)])\n",
        "print(G.edges)"
      ],
      "execution_count": 45,
      "outputs": [
        {
          "output_type": "stream",
          "name": "stdout",
          "text": [
            "[(0, 2), (0, 1), (2, 1), (2, 8), (3, 8), (3, 6), (8, 9), (4, 6), (5, 5), (7, 9)]\n"
          ]
        }
      ]
    },
    {
      "cell_type": "markdown",
      "metadata": {
        "id": "jGMLq-NkpPro"
      },
      "source": [
        "<hr />"
      ]
    },
    {
      "cell_type": "markdown",
      "metadata": {
        "id": "TMAP5tNppPrp"
      },
      "source": [
        "### Q7\n",
        "Print all nodes using \"list\" and print\" function.\n",
        "\n",
        "https://networkx.github.io/documentation/stable/tutorial.html#edges"
      ]
    },
    {
      "cell_type": "code",
      "metadata": {
        "id": "irvqMbyhpPrp",
        "colab": {
          "base_uri": "https://localhost:8080/",
          "height": 0
        },
        "outputId": "c4d35fbc-692f-4bf9-9b04-d5616a8f5f14"
      },
      "source": [
        "import networkx as nx\n",
        "G = nx.Graph()\n",
        "G.add_node(0)\n",
        "G.add_nodes_from([0, 1, 2, 3, 5, 6, 7, 8, 9])\n",
        "print (list(G.nodes()))"
      ],
      "execution_count": 46,
      "outputs": [
        {
          "output_type": "stream",
          "name": "stdout",
          "text": [
            "[0, 1, 2, 3, 5, 6, 7, 8, 9]\n"
          ]
        }
      ]
    },
    {
      "cell_type": "markdown",
      "metadata": {
        "id": "_DOMJO-zpPrr"
      },
      "source": [
        "<hr />"
      ]
    },
    {
      "cell_type": "markdown",
      "metadata": {
        "id": "zTZd2f0JpPrs"
      },
      "source": [
        "### Q8\n",
        "Print all edges using \"list\" and print\" function.\n",
        "\n",
        "https://networkx.github.io/documentation/stable/tutorial.html#edges"
      ]
    },
    {
      "cell_type": "code",
      "metadata": {
        "id": "YDacB8IopPrt",
        "colab": {
          "base_uri": "https://localhost:8080/",
          "height": 0
        },
        "outputId": "6f4b6c82-56e3-4b89-f4e0-8d654223b4d0"
      },
      "source": [
        "import networkx as nx\n",
        "G = nx.Graph()\n",
        "G.add_edge(0, 2)\n",
        "G.add_edges_from([(0, 2), (1, 0), (2, 1), (3, 8), (4, 6), (5, 5), (6, 3), (7, 9), (8, 2), (9, 8)])\n",
        "print (G.edges())"
      ],
      "execution_count": 47,
      "outputs": [
        {
          "output_type": "stream",
          "name": "stdout",
          "text": [
            "[(0, 2), (0, 1), (2, 1), (2, 8), (3, 8), (3, 6), (8, 9), (4, 6), (5, 5), (7, 9)]\n"
          ]
        }
      ]
    },
    {
      "cell_type": "markdown",
      "metadata": {
        "id": "mRG0TKy3pPrv"
      },
      "source": [
        "<hr />"
      ]
    },
    {
      "cell_type": "markdown",
      "metadata": {
        "id": "7SdOBQkgpPrx"
      },
      "source": [
        "### Q9\n",
        "Print the number of nodes using <br />\"number_of_nodes\" functon, and <br />\n",
        "\"print\" function.\n",
        "\n",
        "https://networkx.github.io/documentation/stable/tutorial.html#edges"
      ]
    },
    {
      "cell_type": "code",
      "metadata": {
        "id": "1YAgQvZPpPry",
        "colab": {
          "base_uri": "https://localhost:8080/",
          "height": 0
        },
        "outputId": "a990bb17-004a-4545-b1b3-04322c649d2c"
      },
      "source": [
        "import networkx as nx\n",
        "G =nx.Graph()\n",
        "G.add_node(0)\n",
        "G.add_nodes_from([0, 1, 2, 3, 4, 5, 6, 7, 8, 9])\n",
        "print(G.number_of_nodes())\n"
      ],
      "execution_count": 48,
      "outputs": [
        {
          "output_type": "stream",
          "name": "stdout",
          "text": [
            "10\n"
          ]
        }
      ]
    },
    {
      "cell_type": "markdown",
      "metadata": {
        "id": "u3XDz_7ppPr0"
      },
      "source": [
        "<hr />"
      ]
    },
    {
      "cell_type": "markdown",
      "metadata": {
        "id": "mnPJ2DzYpPr1"
      },
      "source": [
        "### Q10\n",
        "Print the number of edges using <br />\"number_of_edges\" function , and<br /> \"print\" function."
      ]
    },
    {
      "cell_type": "code",
      "metadata": {
        "id": "HaIB1lp_pPr2",
        "colab": {
          "base_uri": "https://localhost:8080/",
          "height": 0
        },
        "outputId": "126a69e4-c11d-40f4-af34-43ee28c6aca8"
      },
      "source": [
        "import networkx as nx\n",
        "G=nx. Graph ()\n",
        "G.add_edge(0, 2)\n",
        "G.add_edges_from([(0, 2), (1, 0), (2, 1), (3, 8), (4, 6), (5, 5), (6, 3), (7, 9), (8, 2), (9, 8)])\n",
        "print(G.number_of_edges())"
      ],
      "execution_count": 49,
      "outputs": [
        {
          "output_type": "stream",
          "name": "stdout",
          "text": [
            "10\n"
          ]
        }
      ]
    },
    {
      "cell_type": "markdown",
      "metadata": {
        "id": "Zp4SBR4BpPr4"
      },
      "source": [
        "<hr />"
      ]
    },
    {
      "cell_type": "markdown",
      "metadata": {
        "collapsed": false,
        "id": "XWqTWYhmpPr5"
      },
      "source": [
        "### Q11\n",
        "Print the list of nodes adjacent to node 2 (neighbour of node 2)<br />\n",
        "using \"neighbors\" function<br />\n",
        "and \"print\" function.\n",
        "\n",
        "https://networkx.github.io/documentation/stable/tutorial.html#edges"
      ]
    },
    {
      "cell_type": "code",
      "metadata": {
        "id": "_RT6kP3EpPr6",
        "colab": {
          "base_uri": "https://localhost:8080/",
          "height": 0
        },
        "outputId": "acc4b3f7-a8af-4c68-a7fa-3285d7ba8c9f"
      },
      "source": [
        "import networkx as nx\n",
        "G=nx.Graph()\n",
        "G.add_node(0)\n",
        "G.add_nodes_from([1,2,3,4,5,6,7,8,9])\n",
        "G.add_edge(0,2)\n",
        "G.add_edges_from([(0, 2), (1, 0), (2, 1), (3, 8), (4, 6), (5, 5), (6, 3), (7, 9), (8, 2), (9, 8)])\n",
        "print(list(G.neighbors(2)))\n"
      ],
      "execution_count": 50,
      "outputs": [
        {
          "output_type": "stream",
          "name": "stdout",
          "text": [
            "[0, 1, 8]\n"
          ]
        }
      ]
    },
    {
      "cell_type": "markdown",
      "metadata": {
        "id": "qKo7PEHRpPr9"
      },
      "source": [
        "<hr />"
      ]
    },
    {
      "cell_type": "markdown",
      "metadata": {
        "id": "d6ARhDbCpPr9"
      },
      "source": [
        "### Q12\n",
        "Print all the nodes and a list of their respective neighbours side by side using<br />\n",
        "\"for loop\", <br />\n",
        "\"nodes\" function, <br />\n",
        "\"neighbors\" function, and <br />\n",
        "\"print\" function.\n",
        "\n",
        "Example:<br />\n",
        "0 [1, 2, 7]<br />\n",
        "1 [0, 9, 2]<br />\n",
        "2 [0, 1, 4]<br />\n",
        "3 [8, 5]<br />\n",
        "4 [2, 6]<br />\n",
        "5 [3]<br />\n",
        "6 [4]<br />\n",
        "7 [0]<br />\n",
        "8 [3]<br />\n",
        "9 [1]\n",
        "\n",
        "https://docs.python.org/3/tutorial/controlflow.html#for-statements <br />\n",
        "https://networkx.github.io/documentation/stable/tutorial.html#edges"
      ]
    },
    {
      "cell_type": "code",
      "metadata": {
        "id": "P0t7CHOdpPr-",
        "colab": {
          "base_uri": "https://localhost:8080/",
          "height": 0
        },
        "outputId": "887bf0a3-3c2e-450c-e16b-15d805c7e879"
      },
      "source": [
        "for nodes in G.nodes () :\n",
        "  print (nodes, list(G.neighbors(nodes)))"
      ],
      "execution_count": 51,
      "outputs": [
        {
          "output_type": "stream",
          "name": "stdout",
          "text": [
            "0 [2, 1]\n",
            "1 [0, 2]\n",
            "2 [0, 1, 8]\n",
            "3 [8, 6]\n",
            "4 [6]\n",
            "5 [5]\n",
            "6 [4, 3]\n",
            "7 [9]\n",
            "8 [3, 2, 9]\n",
            "9 [7, 8]\n"
          ]
        }
      ]
    },
    {
      "cell_type": "markdown",
      "metadata": {
        "id": "-n1lg81NpPsB"
      },
      "source": [
        "<hr />"
      ]
    },
    {
      "cell_type": "markdown",
      "metadata": {
        "id": "9Ffba_iYpPsC"
      },
      "source": [
        "### Q13\n",
        "Print the degree for node 2 using the \"degree\" function , and <br />\n",
        "\"print\" function.<br />\n",
        "Please ignore parameter \"weight\".\n",
        "\n",
        "https://networkx.github.io/documentation/stable/tutorial.html#edges"
      ]
    },
    {
      "cell_type": "code",
      "metadata": {
        "id": "1e6QqN7VpPsD",
        "colab": {
          "base_uri": "https://localhost:8080/",
          "height": 0
        },
        "outputId": "0b8ed725-0222-47a5-e0a8-9938ece3c221"
      },
      "source": [
        "import networkx as nx\n",
        "G= nx.Graph()\n",
        "G.add_edges_from([(0, 2), (1, 0), (2, 1), (3, 8), (4, 6), (5, 5), (6, 3), (7, 9), (8, 2), (9, 8)])\n",
        "list(G.adj[2])\n",
        "G.degree(2)\n",
        "print(\"the list of adjacency for nodes 2 =\", list(G.adj[2]))\n",
        "print(\"the degree for node 2=\",G.degree(2))"
      ],
      "execution_count": 53,
      "outputs": [
        {
          "output_type": "stream",
          "name": "stdout",
          "text": [
            "the list of adjacency for nodes 2 = [0, 1, 8]\n",
            "the degree for node 2= 3\n"
          ]
        }
      ]
    },
    {
      "cell_type": "markdown",
      "metadata": {
        "id": "h9dAJ9lqpPsI"
      },
      "source": [
        "<hr />"
      ]
    },
    {
      "cell_type": "markdown",
      "metadata": {
        "id": "RTMnFYAwpPsJ"
      },
      "source": [
        "### Q14\n",
        "Print all the nodes and their respective degree side by side using<br />\n",
        "\"for loop\", <br />\n",
        "\"nodes\" function, <br />\n",
        "\"degree\" function, and <br />\n",
        "\"print\" function.\n",
        "\n",
        "Example:<br />\n",
        "0 3<br />\n",
        "1 3<br />\n",
        "2 3<br />\n",
        "3 2<br />\n",
        "4 2<br />\n",
        "5 1<br />\n",
        "6 1<br />\n",
        "7 1<br />\n",
        "8 1<br />\n",
        "9 1\n",
        "\n",
        "https://docs.python.org/3/tutorial/controlflow.html#for-statements <br />\n",
        "https://networkx.github.io/documentation/stable/tutorial.html#edges<br />\n"
      ]
    },
    {
      "cell_type": "markdown",
      "metadata": {
        "id": "2UNrj3-OpPsK"
      },
      "source": [
        "<hr />"
      ]
    },
    {
      "cell_type": "code",
      "metadata": {
        "id": "0tcQ-x9rpPsL",
        "colab": {
          "base_uri": "https://localhost:8080/",
          "height": 0
        },
        "outputId": "a47a1b80-cc47-42d3-e08b-94363fc9c37f"
      },
      "source": [
        "print(\"nodes\\trespective neigbors\")\n",
        "for nodes in G.nodes():\n",
        "  print(nodes, \"\\t\", G.degree(nodes))\n",
        ""
      ],
      "execution_count": 56,
      "outputs": [
        {
          "output_type": "stream",
          "name": "stdout",
          "text": [
            "nodes\trespective neigbors\n",
            "0 \t 2\n",
            "2 \t 3\n",
            "1 \t 2\n",
            "3 \t 2\n",
            "8 \t 3\n",
            "4 \t 1\n",
            "6 \t 2\n",
            "5 \t 2\n",
            "7 \t 1\n",
            "9 \t 2\n"
          ]
        }
      ]
    },
    {
      "cell_type": "markdown",
      "metadata": {
        "id": "As3KK7fEpPsN"
      },
      "source": [
        "<hr />"
      ]
    },
    {
      "cell_type": "markdown",
      "metadata": {
        "id": "bH_cCMGvpPsO"
      },
      "source": [
        "### Q15\n",
        "\"G.degree()\" is of type dict. <br />\n",
        "\"G.degree().keys()\" will return all the nodes.<br />\n",
        "\"G.degree().values()\" will return all the degrees.<br />\n",
        "\n",
        "Create a degree sequence in descending order using<br />\n",
        "\"G.degree().values()\" function and \"list\" function<br />\n",
        "and assign it to variable called \"degree_sequence\"\n",
        "\n",
        "Print \"degree_sequence\" using \"print\" function.\n",
        "\n",
        "Note:\n",
        "\n",
        "Example: <br />\n",
        "[3, 3, 3, 2, 2, 1, 1, 1, 1, 1]\n",
        "\n",
        "https://docs.python.org/3/tutorial/introduction.html#lists <br />\n",
        "https://docs.python.org/3/tutorial/datastructures.html#dictionaries"
      ]
    },
    {
      "cell_type": "code",
      "source": [
        "dict(G.degree()).values()\n",
        "degree_sequence = sorted(list(dict(G.degree()). values()), reverse = True)\n",
        "print(degree_sequence)"
      ],
      "metadata": {
        "id": "Cz_aVZ0LIExt",
        "outputId": "936cd91c-fcff-4933-9aba-3a788e3dde52",
        "colab": {
          "base_uri": "https://localhost:8080/",
          "height": 0
        }
      },
      "execution_count": 73,
      "outputs": [
        {
          "output_type": "stream",
          "name": "stdout",
          "text": [
            "[3, 3, 2, 2, 2, 2, 2, 2, 1, 1]\n"
          ]
        }
      ]
    },
    {
      "cell_type": "markdown",
      "source": [],
      "metadata": {
        "id": "F7rniZAMJ11T"
      }
    },
    {
      "cell_type": "markdown",
      "metadata": {
        "id": "0dRAhb9SpPsS"
      },
      "source": [
        "<hr />"
      ]
    },
    {
      "cell_type": "markdown",
      "metadata": {
        "id": "hQ42I9CnpPsT"
      },
      "source": [
        "### Q16\n",
        "Find the maximum vertex degree $\\Delta$ by applying<br />\n",
        "\"max\" function to the list \"degree_sequence\" <br />\n",
        "and assign it to variable \"max_degree\".\n",
        "\n",
        "Print variable \"max_degree\" using \"print\" function."
      ]
    },
    {
      "cell_type": "code",
      "metadata": {
        "id": "5dZszNKspPsU",
        "colab": {
          "base_uri": "https://localhost:8080/",
          "height": 0
        },
        "outputId": "c03e96ee-1da5-4d74-8628-88d2b4470bfc"
      },
      "source": [
        "max_degree=max(degree_sequence)\n",
        "print(\"Max Degree =\" , max_degree)"
      ],
      "execution_count": 76,
      "outputs": [
        {
          "output_type": "stream",
          "name": "stdout",
          "text": [
            "Max Degree = 3\n"
          ]
        }
      ]
    },
    {
      "cell_type": "markdown",
      "metadata": {
        "id": "i0AoM5UppPsW"
      },
      "source": [
        "<hr />"
      ]
    },
    {
      "cell_type": "markdown",
      "metadata": {
        "id": "gojNOhlfpPsX"
      },
      "source": [
        "### Q17\n",
        "Find the minimum vertex degree $\\delta$ by applying<br />\n",
        "\"min\" function to the list \"degree_sequence\"<br />\n",
        "and assign it to variable \"min_degree\".\n",
        "\n",
        "Print variable \"min_degree\" using \"print\" function."
      ]
    },
    {
      "cell_type": "code",
      "metadata": {
        "id": "rcxLGrhLpPsY",
        "colab": {
          "base_uri": "https://localhost:8080/",
          "height": 0
        },
        "outputId": "d0d6c443-5651-4b34-f32b-7162cf12dd29"
      },
      "source": [
        "min_degree=min(degree_sequence)\n",
        "print(\"Min Degree =\" , min_degree)"
      ],
      "execution_count": 78,
      "outputs": [
        {
          "output_type": "stream",
          "name": "stdout",
          "text": [
            "Min Degree = 1\n"
          ]
        }
      ]
    },
    {
      "cell_type": "markdown",
      "metadata": {
        "id": "1x-5SS7apPsa"
      },
      "source": [
        "<hr />"
      ]
    },
    {
      "cell_type": "markdown",
      "metadata": {
        "id": "B5OhvbB4pPsb"
      },
      "source": [
        "### Q18\n",
        "Calculate the sum of degree of all nodes<br />\n",
        "\n",
        "\"sum\" function to calculate the sum of all degree, and <br />\n",
        "assign it to a variable called \"sum_degree\".\n",
        "\n",
        "Print \"sum_degree\" using \"print\" function.\n",
        "\n",
        "Example:<br />\n",
        "Sum of degree of all nodes = 18<br />"
      ]
    },
    {
      "cell_type": "code",
      "metadata": {
        "id": "SMqMHFpRpPsc",
        "colab": {
          "base_uri": "https://localhost:8080/",
          "height": 0
        },
        "outputId": "97d95382-f355-4dbb-d9c2-d520ecf57a5b"
      },
      "source": [
        "sum_degree=sum(degree_sequence)\n",
        "print(\"Sum Degree =\" , sum_degree)"
      ],
      "execution_count": 79,
      "outputs": [
        {
          "output_type": "stream",
          "name": "stdout",
          "text": [
            "Sum Degree = 20\n"
          ]
        }
      ]
    },
    {
      "cell_type": "markdown",
      "metadata": {
        "id": "jXKgY8EypPse"
      },
      "source": [
        "<hr />"
      ]
    },
    {
      "cell_type": "markdown",
      "metadata": {
        "id": "pUZUnwnGpPsf"
      },
      "source": [
        "### Q19\n",
        "Calculate the value of 2 times the total number of edges using <br />\n",
        "\"number_of_edges\" function, and<br />\n",
        "assign it to a variable called \"edges_times2\".\n",
        "\n",
        "Print \"edges_times2\" using \"print\" function.\n",
        "\n",
        "Example:<br />\n",
        "edges_times2 = 2 x number_of_edges =  18\n",
        "\n",
        "https://networkx.github.io/documentation/stable/tutorial.html#edges"
      ]
    },
    {
      "cell_type": "code",
      "metadata": {
        "id": "bWcQBp1vpPsh",
        "colab": {
          "base_uri": "https://localhost:8080/",
          "height": 0
        },
        "outputId": "1e8d7311-3d0f-4cc1-c685-d0615f78e629"
      },
      "source": [
        "two_times_edges=(2*G.number_of_edges())\n",
        "print(\"edges times2 =\" , two_times_edges)"
      ],
      "execution_count": 80,
      "outputs": [
        {
          "output_type": "stream",
          "name": "stdout",
          "text": [
            "edges times2 = 20\n"
          ]
        }
      ]
    },
    {
      "cell_type": "markdown",
      "metadata": {
        "id": "AcUawahHpPsm"
      },
      "source": [
        "<hr />"
      ]
    },
    {
      "cell_type": "markdown",
      "metadata": {
        "id": "hWPq9PGVpPsn"
      },
      "source": [
        "### Q20\n",
        "Verify Handshaking Lemma (The degree sum formula).<br />\n",
        "$\\sum_{v \\in V} deg(v) = 2|E|$\n",
        "\n",
        "Hint: <br />\n",
        "Is sum_degree = edges_times2? <br />\n",
        "Print the value using \"print\" function."
      ]
    },
    {
      "cell_type": "markdown",
      "metadata": {
        "id": "NTUTs1KwpPsq"
      },
      "source": [
        "<hr />"
      ]
    },
    {
      "cell_type": "code",
      "source": [
        "sum_degree = sum(degree_sequence)\n",
        "two_times_edges = (2 * G.number_of_edges())\n",
        "if sum_degree is two_times_edges:\n",
        "  print(\"sum_degree=\", sum_degree, \"edges_times2=\", two_times_edges, \"\\n\", \"Handshaking Lemma is verify\")"
      ],
      "metadata": {
        "colab": {
          "base_uri": "https://localhost:8080/",
          "height": 0
        },
        "id": "JndL_LyXMpLV",
        "outputId": "d4f76e4d-c56c-4a80-ea21-40e239444573"
      },
      "execution_count": 93,
      "outputs": [
        {
          "output_type": "stream",
          "name": "stdout",
          "text": [
            "sum_degree= 20 edges_times2= 20 \n",
            " Handshaking Lemma is verify\n"
          ]
        }
      ]
    },
    {
      "cell_type": "markdown",
      "metadata": {
        "id": "_WMaZHMOpPsr"
      },
      "source": [
        "### Q21\n",
        "Draw the graph G using \"draw\" function. Add \"with_labels=True\" argument to \"draw\" function to display the node's label."
      ]
    },
    {
      "cell_type": "code",
      "metadata": {
        "id": "4UbZ1LThpPss",
        "colab": {
          "base_uri": "https://localhost:8080/",
          "height": 516
        },
        "outputId": "9b1f6660-0bc9-4a32-b4a4-9a084cfc0a4f"
      },
      "source": [
        "import matplotlib .pyplot as plt\n",
        "nx.draw(G, with_labels = True)\n",
        "plt.show()\n"
      ],
      "execution_count": 96,
      "outputs": [
        {
          "output_type": "display_data",
          "data": {
            "text/plain": [
              "<Figure size 640x480 with 1 Axes>"
            ],
            "image/png": "[encoded data removed]"
          },
          "metadata": {}
        }
      ]
    }
  ]
}